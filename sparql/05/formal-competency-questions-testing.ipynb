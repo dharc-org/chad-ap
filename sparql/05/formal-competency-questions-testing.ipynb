{
 "cells": [
  {
   "cell_type": "code",
   "execution_count": 1,
   "id": "0adc596a",
   "metadata": {},
   "outputs": [],
   "source": [
    "import rdflib\n",
    "from rdflib.plugins.sparql import prepareQuery\n",
    "from tabulate import tabulate"
   ]
  },
  {
   "cell_type": "code",
   "execution_count": 2,
   "id": "c7a6cfa8",
   "metadata": {},
   "outputs": [],
   "source": [
    "filename = \"../data/05/ABox.ttl\""
   ]
  },
  {
   "cell_type": "code",
   "execution_count": 3,
   "id": "a54b6be8",
   "metadata": {},
   "outputs": [],
   "source": [
    "text1 = '''CQ_2.1\n",
    "What are the identifiers of the printed volumes? What are their types?\n",
    "'''\n",
    "\n",
    "query1 = '''\n",
    "PREFIX aat: <http://vocab.getty.edu/page/aat/>\n",
    "PREFIX crm: <http://www.cidoc-crm.org/cidoc-crm/> \n",
    "PREFIX frbroo: <http://iflastandards.info/ns/fr/frbr/frbroo/> \n",
    "\n",
    "SELECT ?resource ?identifier_text ?type\n",
    "WHERE {\n",
    "    ?resource a frbroo:F4_Manifestation_Singleton ;\n",
    "                crm:P2_has_type aat:300265632 ;\n",
    "                crm:P48_has_preferred_identifier ?identifier .\n",
    "    ?identifier crm:P2_has_type ?type ;\n",
    "                crm:P190_has_symbolic_content ?identifier_text.\n",
    "}\n",
    "'''"
   ]
  },
  {
   "cell_type": "code",
   "execution_count": 4,
   "id": "9967b608",
   "metadata": {},
   "outputs": [],
   "source": [
    "text2 = '''CQ_2.2\n",
    "What is the shelf mark of the cultural resource with the project ID \"45\"?\n",
    "'''\n",
    "\n",
    "query2 = '''\n",
    "PREFIX aat: <http://vocab.getty.edu/page/aat/>\n",
    "PREFIX crm: <http://www.cidoc-crm.org/cidoc-crm/> \n",
    "PREFIX frbroo: <http://iflastandards.info/ns/fr/frbr/frbroo/> \n",
    "\n",
    "SELECT ?identifier_text\n",
    "WHERE {\n",
    "    ?resource a frbroo:F4_Manifestation_Singleton ;\n",
    "    crm:P48_has_preferred_identifier ?identifier1 ,\n",
    "                      ?identifier2 .\n",
    "    ?identifier1 crm:P2_has_type aat:300312355 ;\n",
    "                 crm:P190_has_symbolic_content \"45\" .\n",
    "    ?identifier2 crm:P2_has_type aat:300404704 ;\n",
    "                 crm:P190_has_symbolic_content ?identifier_text.\n",
    "}\n",
    "'''"
   ]
  },
  {
   "cell_type": "code",
   "execution_count": 5,
   "id": "fac05224",
   "metadata": {},
   "outputs": [],
   "source": [
    "text3 = '''CQ_2.3\n",
    "What are the descriptive labels of the cultural resources that either have shelf marks or are prints?\n",
    "'''\n",
    "\n",
    "query3 = '''\n",
    "PREFIX aat: <http://vocab.getty.edu/page/aat/>\n",
    "PREFIX crm: <http://www.cidoc-crm.org/cidoc-crm/> \n",
    "PREFIX frbroo: <http://iflastandards.info/ns/fr/frbr/frbroo/> \n",
    "\n",
    "SELECT ?resource ?label\n",
    "WHERE {\n",
    "    ?resource a frbroo:F4_Manifestation_Singleton ;\n",
    "                crm:P48_has_preferred_identifier ?identifier ;\n",
    "                crm:P2_has_type ?type ;\n",
    "                crm:P3_has_note ?label .\n",
    "    ?identifier crm:P2_has_type ?id_type .\n",
    "    FILTER(?type = aat:300041273 || ?id_type = aat:300404704)\n",
    "}\n",
    "'''"
   ]
  },
  {
   "cell_type": "code",
   "execution_count": 6,
   "id": "53980eff",
   "metadata": {},
   "outputs": [
    {
     "name": "stdout",
     "output_type": "stream",
     "text": [
      "CQ_2.1\n",
      "What are the identifiers of the printed volumes? What are their types?\n",
      "\n",
      "+--------------------------------------------------+-------------------+-------------------------------------------+\n",
      "| resource                                         | identifier_text   | type                                      |\n",
      "|--------------------------------------------------+-------------------+-------------------------------------------|\n",
      "| https://w3id.org/dharc/ontology/chad-ap/object/data/0205-man | 05            | http://vocab.getty.edu/page/aat/300312355 |\n",
      "| https://w3id.org/dharc/ontology/chad-ap/object/data/0205-man | 9                 | http://vocab.getty.edu/page/aat/300445021 |\n",
      "| https://w3id.org/dharc/ontology/chad-ap/object/data/0205-man | A.V.GG.VII.28     | http://vocab.getty.edu/page/aat/300404704 |\n",
      "+--------------------------------------------------+-------------------+-------------------------------------------+\n",
      "CQ_2.2\n",
      "Return the `identifier` with `type` `shelf mark` of the `cultural resource` with an `identifier` with `type` `project id` equal to \"45\".\n",
      "\n",
      "+--------------------------------------+\n",
      "| identifier_text                      |\n",
      "|--------------------------------------|\n",
      "| Erbario Aldrovandi, vol.13, carta 77 |\n",
      "+--------------------------------------+\n",
      "CQ_2.3\n",
      "What are the descriptive labels of the cultural resources that either have shelf marks or are prints?\n",
      "\n",
      "+--------------------------------------------------+---------------------------------------------------------------------------------------------------------------------------------------------------------------------------------+\n",
      "| resource                                         | label                                                                                                                                                                           |\n",
      "|--------------------------------------------------+---------------------------------------------------------------------------------------------------------------------------------------------------------------------------------|\n",
      "| https://w3id.org/dharc/ontology/chad-ap/object/data/02L1-man | Amerigo Vespucci sveglia l'America Amerigo Vespucci awakens a sleeping America In Jan van del Straet (Stradano), Nova Reperta, c. 1589 - c.1593, Antwerp Amsterdam, Rijksmuseum |\n",
      "| https://w3id.org/dharc/ontology/chad-ap/object/data/0205-man | Aristoteles De Historia Animalium lib. 9 Venezia, Girolamo Scoto, 1545 BUB, A.V.GG.VII.28                                                                                       |\n",
      "| https://w3id.org/dharc/ontology/chad-ap/object/data/0245-man | Dryas octopetala L. Camedrio alpino Mountain avens Erbario Aldrovandi, vol.13, carta 77 sec. XVI 16th century Bologna, Orto Botanico ed Erbario, Sistema Museale di Ateneo      |\n",
      "+--------------------------------------------------+---------------------------------------------------------------------------------------------------------------------------------------------------------------------------------+\n"
     ]
    }
   ],
   "source": [
    "queries = [(text1, query1),\n",
    "           (text2, query2),\n",
    "           (text3, query3)]\n",
    "\n",
    "g = rdflib.ConjunctiveGraph()\n",
    "g.parse(filename, format=\"turtle\", encoding=\"utf-8\")\n",
    "\n",
    "for query in queries:\n",
    "    q = prepareQuery(query[1])\n",
    "    results = g.query(q)\n",
    "    print(query[0])\n",
    "    table = []\n",
    "    for row in results:\n",
    "        table.append([row[var] for var in results.vars])\n",
    "    print(tabulate(table, headers=results.vars, tablefmt=\"psql\"))"
   ]
  }
 ],
 "metadata": {
  "kernelspec": {
   "display_name": "Python 3 (ipykernel)",
   "language": "python",
   "name": "python3"
  },
  "language_info": {
   "codemirror_mode": {
    "name": "ipython",
    "version": 3
   },
   "file_extension": ".py",
   "mimetype": "text/x-python",
   "name": "python",
   "nbconvert_exporter": "python",
   "pygments_lexer": "ipython3",
   "version": "3.11.2"
  }
 },
 "nbformat": 4,
 "nbformat_minor": 5
}
