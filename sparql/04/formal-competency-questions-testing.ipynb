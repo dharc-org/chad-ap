{
 "cells": [
  {
   "cell_type": "code",
   "execution_count": 1,
   "id": "0adc596a",
   "metadata": {},
   "outputs": [],
   "source": [
    "import rdflib\n",
    "from rdflib.plugins.sparql import prepareQuery\n",
    "from tabulate import tabulate"
   ]
  },
  {
   "cell_type": "code",
   "execution_count": 2,
   "id": "c7a6cfa8",
   "metadata": {},
   "outputs": [],
   "source": [
    "filename = \"../data/04/ABox.ttl\""
   ]
  },
  {
   "cell_type": "code",
   "execution_count": 3,
   "id": "a54b6be8",
   "metadata": {},
   "outputs": [],
   "source": [
    "text1 = '''CQ_1.1\n",
    "What are the cultural resources whose creation involved some illustrator?\n",
    "'''\n",
    "\n",
    "query1 = '''\n",
    "PREFIX aat: <http://vocab.getty.edu/page/aat/>\n",
    "PREFIX crm: <http://www.cidoc-crm.org/cidoc-crm/> \n",
    "PREFIX frbroo: <http://iflastandards.info/ns/fr/frbr/frbroo/> \n",
    "\n",
    "SELECT ?resource ?agent\n",
    "WHERE {\n",
    "    ?creation_event a frbroo:F28_Expression_Creation ;\n",
    "            frbroo:R17_created ?resource ;\n",
    "            crm:P9_consists_of ?activity .\n",
    "    ?activity crm:P2_has_type aat:300054200 ;\n",
    "            crm:P14_carried_out_by ?agent .\n",
    "}\n",
    "'''"
   ]
  },
  {
   "cell_type": "code",
   "execution_count": 4,
   "id": "9967b608",
   "metadata": {},
   "outputs": [],
   "source": [
    "text2 = '''CQ_1.2\n",
    "What are the agents and the types of  activities they carried out to contribute to the creation of `24-exp`?\n",
    "'''\n",
    "\n",
    "query2 = '''\n",
    "PREFIX ex: <https://w3id.org/dharc/ontology/chad-ap/object/data/01/>\n",
    "PREFIX crm: <http://www.cidoc-crm.org/cidoc-crm/> \n",
    "PREFIX frbroo: <http://iflastandards.info/ns/fr/frbr/frbroo/> \n",
    "\n",
    "SELECT ?agent ?type\n",
    "WHERE {\n",
    "    ?creation_event a frbroo:F28_Expression_Creation ;\n",
    "            frbroo:R17_created ex:24-exp ;\n",
    "            crm:P9_consists_of ?activity .\n",
    "    ?activity crm:P2_has_type ?type ;\n",
    "            crm:P14_carried_out_by ?agent .\n",
    "}\n",
    "'''"
   ]
  },
  {
   "cell_type": "code",
   "execution_count": 5,
   "id": "fac05224",
   "metadata": {},
   "outputs": [],
   "source": [
    "text3 = '''CQ_1.3\n",
    "What are the agents involved in the creation of the cultural resources that have been created through the engraving technique? What are  the types of the activities they carried out?\n",
    "'''\n",
    "\n",
    "query3 = '''\n",
    "PREFIX aat: <http://vocab.getty.edu/page/aat/>\n",
    "PREFIX crm: <http://www.cidoc-crm.org/cidoc-crm/> \n",
    "PREFIX frbroo: <http://iflastandards.info/ns/fr/frbr/frbroo/>  \n",
    "\n",
    "SELECT ?resource ?agent ?type\n",
    "WHERE {\n",
    "    ?creation_event a frbroo:F28_Expression_Creation ;\n",
    "            crm:P32_used_general_technique aat:300053225 ;\n",
    "            frbroo:R17_created ?resource ;\n",
    "            crm:P9_consists_of ?activity .\n",
    "    ?activity crm:P2_has_type ?type ;\n",
    "            crm:P14_carried_out_by ?agent .\n",
    "}\n",
    "'''"
   ]
  },
  {
   "cell_type": "code",
   "execution_count": 6,
   "id": "27ef9822",
   "metadata": {},
   "outputs": [],
   "source": [
    "text4 = '''CQ_1.4\n",
    "What are the cultural resources whose creation involved at least one agent carrying out more than one activity with different types?\n",
    "'''\n",
    "\n",
    "query4 = '''\n",
    "PREFIX crm: <http://www.cidoc-crm.org/cidoc-crm/> \n",
    "PREFIX frbroo: <http://iflastandards.info/ns/fr/frbr/frbroo/>\n",
    "\n",
    "SELECT ?resource\n",
    "WHERE {\n",
    "  ?event a frbroo:F28_Expression_Creation ;\n",
    "         frbroo:R17_created ?resource ;\n",
    "         crm:P9_consists_of ?activity1 , ?activity2 .\n",
    "  ?activity1 crm:P14_carried_out_by ?agent ;\n",
    "             crm:P2_has_type ?type1 .\n",
    "  ?activity2 crm:P14_carried_out_by ?agent ;\n",
    "             crm:P2_has_type ?type2 .\n",
    "  FILTER(?type1 != ?type2)\n",
    "}\n",
    "GROUP BY ?resource\n",
    "HAVING(COUNT(DISTINCT ?agent) = 1)\n",
    "'''"
   ]
  },
  {
   "cell_type": "code",
   "execution_count": 7,
   "id": "53980eff",
   "metadata": {},
   "outputs": [
    {
     "name": "stdout",
     "output_type": "stream",
     "text": [
      "CQ_1.1\n",
      "What are the cultural resources whose creation involved some illustrator?\n",
      "\n",
      "+---------------------------------------------------------------+-------------------------------------------------------------------------------+\n",
      "| resource                                                      | agent                                                                         |\n",
      "|---------------------------------------------------------------+-------------------------------------------------------------------------------|\n",
      "| https://w3id.org/dharc/ontology/chad-ap/object/data/01/L1-exp | https://w3id.org/dharc/ontology/chad-ap/object/data/01/jan-van-der-straet     |\n",
      "| https://w3id.org/dharc/ontology/chad-ap/object/data/01/35-exp | https://w3id.org/dharc/ontology/chad-ap/object/data/01/pietro-andrea-mattioli |\n",
      "+---------------------------------------------------------------+-------------------------------------------------------------------------------+\n",
      "CQ_1.2\n",
      "What are the agents and the types of  activities they carried out to contribute to the creation of `24-exp`?\n",
      "\n",
      "+----------------------------------------------------------------------+-------------------------------------------+\n",
      "| agent                                                                | type                                      |\n",
      "|----------------------------------------------------------------------+-------------------------------------------|\n",
      "| https://w3id.org/dharc/ontology/chad-ap/object/data/01/carl-linnaeus | http://vocab.getty.edu/page/aat/300404386 |\n",
      "| https://w3id.org/dharc/ontology/chad-ap/object/data/01/naturaliter   | http://vocab.getty.edu/page/aat/300077565 |\n",
      "+----------------------------------------------------------------------+-------------------------------------------+\n",
      "CQ_1.3\n",
      "What are the agents involved in the creation of the cultural resources that have been created through the engraving technique? What are  the types of the activities they carried out?\n",
      "\n",
      "+---------------------------------------------------------------+---------------------------------------------------------------------------+-------------------------------------------+\n",
      "| resource                                                      | agent                                                                     | type                                      |\n",
      "|---------------------------------------------------------------+---------------------------------------------------------------------------+-------------------------------------------|\n",
      "| https://w3id.org/dharc/ontology/chad-ap/object/data/01/L1-exp | https://w3id.org/dharc/ontology/chad-ap/object/data/01/jan-van-der-straet | http://vocab.getty.edu/page/aat/300054200 |\n",
      "| https://w3id.org/dharc/ontology/chad-ap/object/data/01/L1-exp | https://w3id.org/dharc/ontology/chad-ap/object/data/01/philip-galle       | http://vocab.getty.edu/page/aat/300053225 |\n",
      "| https://w3id.org/dharc/ontology/chad-ap/object/data/01/L1-exp | https://w3id.org/dharc/ontology/chad-ap/object/data/01/theodor-galle      | http://vocab.getty.edu/page/aat/300053225 |\n",
      "| https://w3id.org/dharc/ontology/chad-ap/object/data/01/L1-exp | https://w3id.org/dharc/ontology/chad-ap/object/data/01/jan-collaert       | http://vocab.getty.edu/page/aat/300053225 |\n",
      "| https://w3id.org/dharc/ontology/chad-ap/object/data/01/L1-exp | https://w3id.org/dharc/ontology/chad-ap/object/data/01/luigi-alamanni     | http://vocab.getty.edu/page/aat/300417639 |\n",
      "+---------------------------------------------------------------+---------------------------------------------------------------------------+-------------------------------------------+\n",
      "CQ_1.4\n",
      "What are the cultural resources whose creation involved at least one agent carrying out more than one activity with different types?\n",
      "\n",
      "+---------------------------------------------------------------+\n",
      "| resource                                                      |\n",
      "|---------------------------------------------------------------|\n",
      "| https://w3id.org/dharc/ontology/chad-ap/object/data/01/35-exp |\n",
      "+---------------------------------------------------------------+\n"
     ]
    }
   ],
   "source": [
    "queries = [(text1, query1),\n",
    "           (text2, query2),\n",
    "           (text3, query3),\n",
    "           (text4, query4)]\n",
    "\n",
    "g = rdflib.ConjunctiveGraph()\n",
    "g.parse(filename, format=\"turtle\", encoding=\"utf-8\")\n",
    "\n",
    "for query in queries:\n",
    "    q = prepareQuery(query[1])\n",
    "    results = g.query(q)\n",
    "    print(query[0])\n",
    "    table = []\n",
    "    for row in results:\n",
    "        table.append([row[var] for var in results.vars])\n",
    "    print(tabulate(table, headers=results.vars, tablefmt=\"psql\"))"
   ]
  }
 ],
 "metadata": {
  "kernelspec": {
   "display_name": "venv",
   "language": "python",
   "name": "python3"
  },
  "language_info": {
   "codemirror_mode": {
    "name": "ipython",
    "version": 3
   },
   "file_extension": ".py",
   "mimetype": "text/x-python",
   "name": "python",
   "nbconvert_exporter": "python",
   "pygments_lexer": "ipython3",
   "version": "3.11.2"
  }
 },
 "nbformat": 4,
 "nbformat_minor": 5
}
