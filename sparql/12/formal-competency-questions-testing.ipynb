{
 "cells": [
  {
   "cell_type": "code",
   "execution_count": 7,
   "id": "0adc596a",
   "metadata": {},
   "outputs": [],
   "source": [
    "import rdflib\n",
    "from rdflib.plugins.sparql import prepareQuery\n",
    "from tabulate import tabulate"
   ]
  },
  {
   "cell_type": "code",
   "execution_count": 8,
   "id": "c7a6cfa8",
   "metadata": {},
   "outputs": [],
   "source": [
    "filename = \"../data/12/ABox.ttl\""
   ]
  },
  {
   "cell_type": "code",
   "execution_count": 9,
   "id": "a54b6be8",
   "metadata": {},
   "outputs": [],
   "source": [
    "text1 = '''CQ_12.1\n",
    "Return the type and textual content of the taxonomic ranks used to classify `699690/wrk`.\n",
    "'''\n",
    "\n",
    "query1 = '''\n",
    "PREFIX crm: <http://www.cidoc-crm.org/cidoc-crm/>\n",
    "PREFIX crmdig: <http://www.cidoc-crm.org/extensions/crmdig/>\n",
    "PREFIX lrmoo: <http://iflastandards.info/ns/lrm/lrmoo/>\n",
    "PREFIX owl: <http://www.w3.org/2002/07/owl#>\n",
    "\n",
    "SELECT ?type ?content\n",
    "WHERE {\n",
    "    <https://w3id.org/changes/4/cappellini/699690/wrk/1> crm:P130_shows_features_of ?rank .\n",
    "    ?rank crm:P2_has_type ?type ;\n",
    "      crm:P190_has_symbolic_content ?content .\n",
    "}\n",
    "'''"
   ]
  },
  {
   "cell_type": "code",
   "execution_count": 10,
   "id": "9967b608",
   "metadata": {},
   "outputs": [],
   "source": [
    "text2 = '''CQ_12.2\n",
    "Return the cultural heritage objects classified under the Family \"Turrilitidae\" and the external resources linked to them.\n",
    "'''\n",
    "\n",
    "query2 = '''\n",
    "PREFIX crm: <http://www.cidoc-crm.org/cidoc-crm/>\n",
    "PREFIX crmdig: <http://www.cidoc-crm.org/extensions/crmdig/>\n",
    "PREFIX lrmoo: <http://iflastandards.info/ns/lrm/lrmoo/>\n",
    "PREFIX owl: <http://www.w3.org/2002/07/owl#>\n",
    "\n",
    "SELECT ?cho ?link\n",
    "WHERE {\n",
    "    ?cho a lrmoo:F1_Work ; \n",
    "      crm:P130_shows_features_of ?rank ;\n",
    "      crm:P170i_is_documented_in ?link .\n",
    "    ?rank crm:P190_has_symbolic_content \"Turrilitidae\" .\n",
    "}\n",
    "'''"
   ]
  },
  {
   "cell_type": "code",
   "execution_count": 11,
   "id": "1b43a7b9",
   "metadata": {},
   "outputs": [],
   "source": [
    "text3 = '''CQ_12.3\n",
    "Return the type and textual content of the taxonomic ranks used to classify the cultural heritage objects.\n",
    "'''\n",
    "\n",
    "query3 = '''\n",
    "PREFIX crm: <http://www.cidoc-crm.org/cidoc-crm/>\n",
    "PREFIX crmdig: <http://www.cidoc-crm.org/extensions/crmdig/>\n",
    "PREFIX lrmoo: <http://iflastandards.info/ns/lrm/lrmoo/>\n",
    "PREFIX owl: <http://www.w3.org/2002/07/owl#>\n",
    "\n",
    "SELECT ?cho ?type ?content\n",
    "WHERE {\n",
    "    ?cho a lrmoo:F1_Work ; \n",
    "      crm:P130_shows_features_of ?rank .\n",
    "    ?rank crm:P2_has_type ?type ;\n",
    "      crm:P190_has_symbolic_content ?content .\n",
    "}\n",
    "'''"
   ]
  },
  {
   "cell_type": "code",
   "execution_count": 12,
   "id": "53980eff",
   "metadata": {},
   "outputs": [
    {
     "name": "stdout",
     "output_type": "stream",
     "text": [
      "CQ_12.1\n",
      "Return the type and textual content of the taxonomic ranks used to classify `699690/wrk`.\n",
      "\n",
      "+---------------------------------------+-----------------+\n",
      "| type                                  | content         |\n",
      "|---------------------------------------+-----------------|\n",
      "| http://www.wikidata.org/entity/Q36602 | Ammonitida      |\n",
      "| http://www.wikidata.org/entity/Q34740 | Ancyloceras     |\n",
      "| http://www.wikidata.org/entity/Q35409 | Ancyloceratidae |\n",
      "| http://www.wikidata.org/entity/Q36732 | Animalia        |\n",
      "| http://www.wikidata.org/entity/Q37517 | Cephalopoda     |\n",
      "| http://www.wikidata.org/entity/Q38348 | Mollusca        |\n",
      "+---------------------------------------+-----------------+\n",
      "CQ_12.2\n",
      "Return the cultural heritage objects classified under the Family \"Turrilitidae\" and the external resources linked to them.\n",
      "\n",
      "+----------------------------------------------------+-------------------------------------------+\n",
      "| cho                                                | link                                      |\n",
      "|----------------------------------------------------+-------------------------------------------|\n",
      "| https://w3id.org/changes/4/cappellini/699692/wrk/1 | https://www.mindat.org/taxon-P355991.html |\n",
      "+----------------------------------------------------+-------------------------------------------+\n",
      "CQ_12.3\n",
      "Return the type and textual content of the taxonomic ranks used to classify the cultural heritage objects.\n",
      "\n",
      "+----------------------------------------------------+---------------------------------------+-----------------+\n",
      "| cho                                                | type                                  | content         |\n",
      "|----------------------------------------------------+---------------------------------------+-----------------|\n",
      "| https://w3id.org/changes/4/cappellini/699690/wrk/1 | http://www.wikidata.org/entity/Q36602 | Ammonitida      |\n",
      "| https://w3id.org/changes/4/cappellini/699690/wrk/1 | http://www.wikidata.org/entity/Q34740 | Ancyloceras     |\n",
      "| https://w3id.org/changes/4/cappellini/699690/wrk/1 | http://www.wikidata.org/entity/Q35409 | Ancyloceratidae |\n",
      "| https://w3id.org/changes/4/cappellini/699690/wrk/1 | http://www.wikidata.org/entity/Q36732 | Animalia        |\n",
      "| https://w3id.org/changes/4/cappellini/699690/wrk/1 | http://www.wikidata.org/entity/Q37517 | Cephalopoda     |\n",
      "| https://w3id.org/changes/4/cappellini/699690/wrk/1 | http://www.wikidata.org/entity/Q38348 | Mollusca        |\n",
      "| https://w3id.org/changes/4/cappellini/699692/wrk/1 | http://www.wikidata.org/entity/Q36602 | Ammonitida      |\n",
      "| https://w3id.org/changes/4/cappellini/699692/wrk/1 | http://www.wikidata.org/entity/Q36732 | Animalia        |\n",
      "| https://w3id.org/changes/4/cappellini/699692/wrk/1 | http://www.wikidata.org/entity/Q7432  | cenomanensis    |\n",
      "| https://w3id.org/changes/4/cappellini/699692/wrk/1 | http://www.wikidata.org/entity/Q37517 | Cephalopoda     |\n",
      "| https://w3id.org/changes/4/cappellini/699692/wrk/1 | http://www.wikidata.org/entity/Q34740 | Mariella        |\n",
      "| https://w3id.org/changes/4/cappellini/699692/wrk/1 | http://www.wikidata.org/entity/Q38348 | Mollusca        |\n",
      "| https://w3id.org/changes/4/cappellini/699692/wrk/1 | http://www.wikidata.org/entity/Q35409 | Turrilitidae    |\n",
      "+----------------------------------------------------+---------------------------------------+-----------------+\n"
     ]
    }
   ],
   "source": [
    "queries = [(text1, query1),\n",
    "            (text2, query2),\n",
    "            (text3, query3),\n",
    "           ]\n",
    "\n",
    "g = rdflib.ConjunctiveGraph()\n",
    "g.parse(filename, format=\"turtle\", encoding=\"utf-8\")\n",
    "\n",
    "for query in queries:\n",
    "    q = prepareQuery(query[1])\n",
    "    results = g.query(q)\n",
    "    print(query[0])\n",
    "    table = []\n",
    "    for row in results:\n",
    "        table.append([row[var] for var in results.vars])\n",
    "    print(tabulate(table, headers=results.vars, tablefmt=\"psql\"))"
   ]
  }
 ],
 "metadata": {
  "kernelspec": {
   "display_name": "venv",
   "language": "python",
   "name": "python3"
  },
  "language_info": {
   "codemirror_mode": {
    "name": "ipython",
    "version": 3
   },
   "file_extension": ".py",
   "mimetype": "text/x-python",
   "name": "python",
   "nbconvert_exporter": "python",
   "pygments_lexer": "ipython3",
   "version": "3.11.2"
  }
 },
 "nbformat": 4,
 "nbformat_minor": 5
}
