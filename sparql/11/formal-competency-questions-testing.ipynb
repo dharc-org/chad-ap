{
 "cells": [
  {
   "cell_type": "code",
   "execution_count": 1,
   "id": "0adc596a",
   "metadata": {},
   "outputs": [],
   "source": [
    "import rdflib\n",
    "from rdflib.plugins.sparql import prepareQuery\n",
    "from tabulate import tabulate"
   ]
  },
  {
   "cell_type": "code",
   "execution_count": 2,
   "id": "c7a6cfa8",
   "metadata": {},
   "outputs": [],
   "source": [
    "filename = \"../data/11/ABox.ttl\""
   ]
  },
  {
   "cell_type": "code",
   "execution_count": 3,
   "id": "a54b6be8",
   "metadata": {},
   "outputs": [],
   "source": [
    "text1 = '''CQ_11.1\n",
    "Return the textual content of the appellation used to label the type of a CHO and also its authority record.\n",
    "'''\n",
    "\n",
    "query1 = '''\n",
    "PREFIX aat: <http://vocab.getty.edu/page/aat/>\n",
    "PREFIX crm: <http://www.cidoc-crm.org/cidoc-crm/>\n",
    "PREFIX crmdig: <http://www.cidoc-crm.org/extensions/crmdig/>\n",
    "PREFIX lrmoo: <http://iflastandards.info/ns/lrm/lrmoo/>\n",
    "PREFIX owl: <http://www.w3.org/2002/07/owl#>\n",
    "\n",
    "SELECT ?cho ?label ?auth\n",
    "WHERE {\n",
    "    ?cho a lrmoo:F3_Manifestation ;\n",
    "      crm:P2_has_type ?type .\n",
    "      \n",
    "    ?type crm:P1_is_identified_by ?appellation ;\n",
    "      crm:P70i_is_documented_in ?auth .\n",
    "    \n",
    "    ?appellation crm:P190_has_symbolic_content ?label .\n",
    "}\n",
    "'''"
   ]
  },
  {
   "cell_type": "code",
   "execution_count": 4,
   "id": "9967b608",
   "metadata": {},
   "outputs": [],
   "source": [
    "text2 = '''CQ_11.2\n",
    "Return all the appellations used to label the entities involved in the bibliographic description and the digitisation process of a CHO.\n",
    "'''\n",
    "\n",
    "query2 = '''\n",
    "PREFIX aat: <http://vocab.getty.edu/page/aat/>\n",
    "PREFIX crm: <http://www.cidoc-crm.org/cidoc-crm/>\n",
    "PREFIX crmdig: <http://www.cidoc-crm.org/extensions/crmdig/>\n",
    "PREFIX lrmoo: <http://iflastandards.info/ns/lrm/lrmoo/>\n",
    "PREFIX owl: <http://www.w3.org/2002/07/owl#>\n",
    "\n",
    "SELECT ?label ?entity ?type\n",
    "WHERE {\n",
    "    ?entity a ?type ; \n",
    "      crm:P1_is_identified_by ?appellation .\n",
    "\n",
    "    ?appellation a crm:E41_Appellation ;\n",
    "      crm:P190_has_symbolic_content ?label .\n",
    "}\n",
    "'''"
   ]
  },
  {
   "cell_type": "code",
   "execution_count": 5,
   "id": "53980eff",
   "metadata": {},
   "outputs": [
    {
     "name": "stdout",
     "output_type": "stream",
     "text": [
      "CQ_11.1\n",
      "Return the textual content of the appellation used to label the type of a CHO and also its authority record.\n",
      "\n",
      "+------------------------------------------------+---------+-------------------------------------------+\n",
      "| cho                                            | label   | auth                                      |\n",
      "|------------------------------------------------+---------+-------------------------------------------|\n",
      "| https://w3id.org/changes/4/aldrovandi/22/mnf/1 | Stampa  | http://vocab.getty.edu/page/aat/300041273 |\n",
      "+------------------------------------------------+---------+-------------------------------------------+\n",
      "CQ_11.2\n",
      "Return all the appellations used to label the entities involved in the bibliographic description and the digitisation process of a CHO.\n",
      "\n",
      "+-------------------------+-------------------------------------------------------------------+------------------------------------------------------------------+\n",
      "| label                   | entity                                                            | type                                                             |\n",
      "|-------------------------+-------------------------------------------------------------------+------------------------------------------------------------------|\n",
      "| Stampa                  | https://w3id.org/changes/4/aldrovandi/typ/300041273               | http://www.cidoc-crm.org/cidoc-crm/E55_Type                      |\n",
      "| Dioscorides Pedanius    | https://w3id.org/changes/4/aldrovandi/act/dioscorides-pedanius    | http://www.cidoc-crm.org/cidoc-crm/E39_Actor                     |\n",
      "| Fondo Storico Bertoloni | https://w3id.org/changes/4/aldrovandi/col/fondo-storico-bertoloni | http://www.cidoc-crm.org/cidoc-crm/E24_Physical_Human-Made_Thing |\n",
      "| Bologna                 | https://w3id.org/changes/4/aldrovandi/plc/bologna                 | http://www.cidoc-crm.org/cidoc-crm/E53_Place                     |\n",
      "| Alice Bordignon         | https://w3id.org/changes/4/aldrovandi/psn/alice-bordignon         | http://www.cidoc-crm.org/cidoc-crm/E21_Person                    |\n",
      "| Nikon D7200 Nikor 50mm  | https://w3id.org/changes/4/aldrovandi/dev/nikon-d7200-nikor-50mm  | http://www.cidoc-crm.org/extensions/crmdig/D8_Digital_Device     |\n",
      "| Unibo Ficlit            | https://w3id.org/changes/4/aldrovandi/grp/unibo-ficlit            | http://www.cidoc-crm.org/cidoc-crm/E74_Group                     |\n",
      "| 3df Zephyr              | https://w3id.org/changes/4/aldrovandi/sfw/3df-zephyr              | http://www.cidoc-crm.org/extensions/crmdig/D14_Software          |\n",
      "+-------------------------+-------------------------------------------------------------------+------------------------------------------------------------------+\n"
     ]
    }
   ],
   "source": [
    "queries = [(text1, query1),\n",
    "           (text2, query2),\n",
    "           ]\n",
    "\n",
    "g = rdflib.ConjunctiveGraph()\n",
    "g.parse(filename, format=\"turtle\", encoding=\"utf-8\")\n",
    "\n",
    "for query in queries:\n",
    "    q = prepareQuery(query[1])\n",
    "    results = g.query(q)\n",
    "    print(query[0])\n",
    "    table = []\n",
    "    for row in results:\n",
    "        table.append([row[var] for var in results.vars])\n",
    "    print(tabulate(table, headers=results.vars, tablefmt=\"psql\"))"
   ]
  }
 ],
 "metadata": {
  "kernelspec": {
   "display_name": "venv",
   "language": "python",
   "name": "python3"
  },
  "language_info": {
   "codemirror_mode": {
    "name": "ipython",
    "version": 3
   },
   "file_extension": ".py",
   "mimetype": "text/x-python",
   "name": "python",
   "nbconvert_exporter": "python",
   "pygments_lexer": "ipython3",
   "version": "3.11.2"
  }
 },
 "nbformat": 4,
 "nbformat_minor": 5
}
