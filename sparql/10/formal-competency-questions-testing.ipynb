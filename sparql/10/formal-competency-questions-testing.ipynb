{
 "cells": [
  {
   "cell_type": "code",
   "execution_count": 1,
   "id": "0adc596a",
   "metadata": {},
   "outputs": [],
   "source": [
    "import rdflib\n",
    "from rdflib.plugins.sparql import prepareQuery\n",
    "from tabulate import tabulate"
   ]
  },
  {
   "cell_type": "code",
   "execution_count": 2,
   "id": "c7a6cfa8",
   "metadata": {},
   "outputs": [],
   "source": [
    "filename = \"../data/10/ABox.ttl\""
   ]
  },
  {
   "cell_type": "code",
   "execution_count": 3,
   "id": "a54b6be8",
   "metadata": {},
   "outputs": [],
   "source": [
    "text1 = '''CQ_7.1\n",
    "Return the digital representation of a cultural heritage object at the Manifestation level.\n",
    "'''\n",
    "\n",
    "query1 = '''\n",
    "PREFIX aat: <http://vocab.getty.edu/page/aat/>\n",
    "PREFIX crm: <http://www.cidoc-crm.org/cidoc-crm/>\n",
    "PREFIX crmdig: <http://www.cidoc-crm.org/extensions/crmdig/>\n",
    "PREFIX lrmoo: <http://iflastandards.info/ns/lrm/lrmoo/>\n",
    "PREFIX owl: <http://www.w3.org/2002/07/owl#>\n",
    "\n",
    "SELECT ?cho ?digital_rep\n",
    "WHERE {\n",
    "    ?cho a lrmoo:F3_Manifestation ;\n",
    "      crm:P130i_features_are_also_found_on ?digital_rep .\n",
    "}\n",
    "'''"
   ]
  },
  {
   "cell_type": "code",
   "execution_count": 4,
   "id": "9967b608",
   "metadata": {},
   "outputs": [],
   "source": [
    "text2 = '''CQ_7.2\n",
    "Return the data object used as a base for the data object taken as the input of the optimization phase during the digitization process of a cultural heritage object.\n",
    "'''\n",
    "\n",
    "query2 = '''\n",
    "PREFIX aat: <http://vocab.getty.edu/page/aat/>\n",
    "PREFIX crm: <http://www.cidoc-crm.org/cidoc-crm/>\n",
    "PREFIX crmdig: <http://www.cidoc-crm.org/extensions/crmdig/>\n",
    "PREFIX lrmoo: <http://iflastandards.info/ns/lrm/lrmoo/>\n",
    "PREFIX owl: <http://www.w3.org/2002/07/owl#>\n",
    "\n",
    "SELECT ?item ?existing_obj\n",
    "WHERE {\n",
    "    ?item a lrmoo:F5_Item ;\n",
    "      crm:P130i_features_are_also_found_on ?data_obj .\n",
    "\n",
    "    ?data_obj a crmdig:D9_Data_Object ;\n",
    "      crm:P130_shows_features_of ?existing_obj .\n",
    "\n",
    "    ?activity a crmdig:D10_Software_Execution ;\n",
    "      crmdig:L10_had_input ?data_obj ;\n",
    "      crm:P2_has_type aat:300386427 .\n",
    "}\n",
    "'''"
   ]
  },
  {
   "cell_type": "code",
   "execution_count": 5,
   "id": "53980eff",
   "metadata": {},
   "outputs": [
    {
     "name": "stdout",
     "output_type": "stream",
     "text": [
      "CQ_7.1\n",
      "Return the digital representation of a cultural heritage object at the Manifestation level.\n",
      "\n",
      "+------------------------------------------------+------------------------------------------+\n",
      "| cho                                            | digital_rep                              |\n",
      "|------------------------------------------------+------------------------------------------|\n",
      "| https://w3id.org/changes/4/aldrovandi/52/mnf/1 | http://hdl.handle.net/20.500.14008/78078 |\n",
      "+------------------------------------------------+------------------------------------------+\n",
      "CQ_7.2\n",
      "Return the data object used as a base for the data object taken as the input of the optimization phase during the digitization process of a cultural heritage object.\n",
      "\n",
      "+------------------------------------------------+------------------------------------------------------------------------------------------------+\n",
      "| item                                           | existing_obj                                                                                   |\n",
      "|------------------------------------------------+------------------------------------------------------------------------------------------------|\n",
      "| https://w3id.org/changes/4/aldrovandi/16/itm/1 | https://sketchfab.com/3d-models/cuban-macaw-nhmw-zoo-vs-50796-52348a29605a4136a0e807942d3c12a6 |\n",
      "+------------------------------------------------+------------------------------------------------------------------------------------------------+\n"
     ]
    }
   ],
   "source": [
    "queries = [(text1, query1),\n",
    "           (text2, query2),\n",
    "           ]\n",
    "\n",
    "g = rdflib.ConjunctiveGraph()\n",
    "g.parse(filename, format=\"turtle\", encoding=\"utf-8\")\n",
    "\n",
    "for query in queries:\n",
    "    q = prepareQuery(query[1])\n",
    "    results = g.query(q)\n",
    "    print(query[0])\n",
    "    table = []\n",
    "    for row in results:\n",
    "        table.append([row[var] for var in results.vars])\n",
    "    print(tabulate(table, headers=results.vars, tablefmt=\"psql\"))"
   ]
  }
 ],
 "metadata": {
  "kernelspec": {
   "display_name": "venv",
   "language": "python",
   "name": "python3"
  },
  "language_info": {
   "codemirror_mode": {
    "name": "ipython",
    "version": 3
   },
   "file_extension": ".py",
   "mimetype": "text/x-python",
   "name": "python",
   "nbconvert_exporter": "python",
   "pygments_lexer": "ipython3",
   "version": "3.11.2"
  }
 },
 "nbformat": 4,
 "nbformat_minor": 5
}
