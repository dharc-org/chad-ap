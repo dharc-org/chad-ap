{
 "cells": [
  {
   "cell_type": "code",
   "execution_count": 6,
   "id": "0adc596a",
   "metadata": {},
   "outputs": [],
   "source": [
    "import rdflib\n",
    "from rdflib.plugins.sparql import prepareQuery\n",
    "from tabulate import tabulate"
   ]
  },
  {
   "cell_type": "code",
   "execution_count": 7,
   "id": "c7a6cfa8",
   "metadata": {},
   "outputs": [],
   "source": [
    "filename = \"../data/13/ABox.ttl\""
   ]
  },
  {
   "cell_type": "code",
   "execution_count": 8,
   "id": "a54b6be8",
   "metadata": {},
   "outputs": [],
   "source": [
    "text1 = '''CQ_13.1\n",
    "Return the items, the name of the location their creation took place at, and eventually the name of the more precise location, if it exists.\n",
    "'''\n",
    "\n",
    "query1 = '''\n",
    "PREFIX crm: <http://www.cidoc-crm.org/cidoc-crm/>\n",
    "PREFIX lrmoo: <http://iflastandards.info/ns/lrm/lrmoo/>\n",
    "\n",
    "\n",
    "SELECT ?item (GROUP_CONCAT(?place_label; separator=\", \") AS ?place_label_combined)\n",
    "WHERE {\n",
    "    ?creation_event crm:P7_took_place_at ?place ;\n",
    "        lrmoo:R17_created ?exp .\n",
    "    ?exp lrmoo:R4i_is_embodied_in ?mnf .\n",
    "    ?mnf lrmoo:R7i_is_exemplified_by ?item .\n",
    "    ?place crm:P1_is_identified_by ?placeapp .\n",
    "    ?placeapp crm:P190_has_symbolic_content ?place_label .\n",
    "}\n",
    "GROUP BY ?item\n",
    "'''"
   ]
  },
  {
   "cell_type": "code",
   "execution_count": 9,
   "id": "9967b608",
   "metadata": {},
   "outputs": [],
   "source": [
    "text2 = '''CQ_13.2\n",
    "Return the items and their current locations.\n",
    "'''\n",
    "\n",
    "query2 = '''\n",
    "PREFIX crm: <http://www.cidoc-crm.org/cidoc-crm/>\n",
    "PREFIX lrmoo: <http://iflastandards.info/ns/lrm/lrmoo/>\n",
    "\n",
    "\n",
    "SELECT ?item ?place_label\n",
    "WHERE {\n",
    "    ?creation_event lrmoo:R17_created ?exp .\n",
    "    ?exp lrmoo:R4i_is_embodied_in ?mnf .\n",
    "    ?mnf lrmoo:R7i_is_exemplified_by ?item .\n",
    "    ?item crm:P53_has_former_or_current_location ?place .\n",
    "    ?place crm:P1_is_identified_by ?app .\n",
    "    ?app crm:P190_has_symbolic_content ?place_label .\n",
    "}\n",
    "'''"
   ]
  },
  {
   "cell_type": "code",
   "execution_count": 10,
   "id": "53980eff",
   "metadata": {},
   "outputs": [
    {
     "name": "stdout",
     "output_type": "stream",
     "text": [
      "CQ_13.1\n",
      "Return the items, the name of the location their creation took place at, and eventually the name of the more precise location, if it exists.\n",
      "\n",
      "+----------------------------------------------------+------------------------+\n",
      "| item                                               | place_label_combined   |\n",
      "|----------------------------------------------------+------------------------|\n",
      "| https://w3id.org/changes/4/cappellini/699693/itm/1 | Italia, Opicina        |\n",
      "| https://w3id.org/changes/4/cappellini/699708/itm/1 | Italia, Spoleto        |\n",
      "+----------------------------------------------------+------------------------+\n",
      "CQ_13.2\n",
      "Return the items and their current locations.\n",
      "\n",
      "+----------------------------------------------------+---------------+\n",
      "| item                                               | place_label   |\n",
      "|----------------------------------------------------+---------------|\n",
      "| https://w3id.org/changes/4/cappellini/699693/itm/1 | Stanza VIII   |\n",
      "| https://w3id.org/changes/4/cappellini/699708/itm/1 | Stanza VI     |\n",
      "+----------------------------------------------------+---------------+\n"
     ]
    }
   ],
   "source": [
    "queries = [(text1, query1),\n",
    "            (text2, query2),\n",
    "           ]\n",
    "\n",
    "g = rdflib.ConjunctiveGraph()\n",
    "g.parse(filename, format=\"turtle\", encoding=\"utf-8\")\n",
    "\n",
    "for query in queries:\n",
    "    q = prepareQuery(query[1])\n",
    "    results = g.query(q)\n",
    "    print(query[0])\n",
    "    table = []\n",
    "    for row in results:\n",
    "        table.append([row[var] for var in results.vars])\n",
    "    print(tabulate(table, headers=results.vars, tablefmt=\"psql\"))"
   ]
  }
 ],
 "metadata": {
  "kernelspec": {
   "display_name": "venv",
   "language": "python",
   "name": "python3"
  },
  "language_info": {
   "codemirror_mode": {
    "name": "ipython",
    "version": 3
   },
   "file_extension": ".py",
   "mimetype": "text/x-python",
   "name": "python",
   "nbconvert_exporter": "python",
   "pygments_lexer": "ipython3",
   "version": "3.11.2"
  }
 },
 "nbformat": 4,
 "nbformat_minor": 5
}
