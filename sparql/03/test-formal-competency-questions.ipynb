{
 "cells": [
  {
   "cell_type": "code",
   "execution_count": 1,
   "id": "0adc596a",
   "metadata": {},
   "outputs": [],
   "source": [
    "import rdflib\n",
    "from rdflib.plugins.sparql import prepareQuery\n",
    "from tabulate import tabulate"
   ]
  },
  {
   "cell_type": "code",
   "execution_count": 2,
   "id": "c7a6cfa8",
   "metadata": {},
   "outputs": [],
   "source": [
    "filename = \"../data/03/ABox.ttl\""
   ]
  },
  {
   "cell_type": "code",
   "execution_count": 3,
   "id": "a54b6be8",
   "metadata": {},
   "outputs": [],
   "source": [
    "text1 = '''CQ_3.1\n",
    "What are the techniques used in digitization processes?\n",
    "'''\n",
    "\n",
    "query1 = '''\n",
    "PREFIX crm: <http://www.cidoc-crm.org/cidoc-crm/>\n",
    "PREFIX crmdig: <http://www.ics.forth.gr/isl/CRMdig/>\n",
    "\n",
    "SELECT ?technique ?activity\n",
    "WHERE {\n",
    "    ?activity a crmdig:D2_Digitization_Process ;\n",
    "    crm:P32_used_general_technique ?technique .\n",
    "}\n",
    "'''"
   ]
  },
  {
   "cell_type": "code",
   "execution_count": 4,
   "id": "9967b608",
   "metadata": {},
   "outputs": [],
   "source": [
    "text2 = '''CQ_3.2\n",
    "What are the tools and their types used in processing activities?\n",
    "'''\n",
    "\n",
    "query2 = '''\n",
    "PREFIX aat: <http://vocab.getty.edu/page/aat/>\n",
    "PREFIX crm: <http://www.cidoc-crm.org/cidoc-crm/>\n",
    "PREFIX crmdig: <http://www.ics.forth.gr/isl/CRMdig/>\n",
    "\n",
    "SELECT ?tool ?type\n",
    "WHERE {\n",
    "    ?activity a crmdig:D10_Software_Execution ;\n",
    "        crm:P2_has_type aat:300054636 ;\n",
    "        crmdig:L23_used_software_or_firmware ?tool .\n",
    "    ?tool a crmdig:D14_Software ;\n",
    "        crm:P2_has_type ?type .\n",
    "}\n",
    "'''"
   ]
  },
  {
   "cell_type": "code",
   "execution_count": 5,
   "id": "53980eff",
   "metadata": {},
   "outputs": [
    {
     "name": "stdout",
     "output_type": "stream",
     "text": [
      "CQ_3.1\n",
      "Return the techniques used in acquisition activities.\n",
      "\n",
      "+-------------------------------------------+----------------------------------------------------+\n",
      "| technique                                 | activity                                           |\n",
      "|-------------------------------------------+----------------------------------------------------|\n",
      "| http://vocab.getty.edu/page/aat/300391312 | https://w3id.org/dharc/ontology/chad-ap/process/data/03/15-acq |\n",
      "+-------------------------------------------+----------------------------------------------------+\n",
      "CQ_3.2\n",
      "What are the tools and their types used in processing activities?\n",
      "\n",
      "+---------------------------------------------------------+-------------------------------------------+\n",
      "| tool                                                    | type                                      |\n",
      "|---------------------------------------------------------+-------------------------------------------|\n",
      "| https://w3id.org/dharc/ontology/chad-ap/process/data/03/artec-studio-14 | http://vocab.getty.edu/page/aat/300426696 |\n",
      "+---------------------------------------------------------+-------------------------------------------+\n"
     ]
    }
   ],
   "source": [
    "queries = [(text1, query1), (text2, query2)]\n",
    "g = rdflib.ConjunctiveGraph()\n",
    "g.parse(filename, format=\"turtle\", encoding=\"utf-8\")\n",
    "\n",
    "for query in queries:\n",
    "    q = prepareQuery(query[1])\n",
    "    results = g.query(q)\n",
    "    print(query[0])\n",
    "    table = []\n",
    "    for row in results:\n",
    "        table.append([row[var] for var in results.vars])\n",
    "    print(tabulate(table, headers=results.vars, tablefmt=\"psql\"))"
   ]
  }
 ],
 "metadata": {
  "kernelspec": {
   "display_name": "Python 3 (ipykernel)",
   "language": "python",
   "name": "python3"
  },
  "language_info": {
   "codemirror_mode": {
    "name": "ipython",
    "version": 3
   },
   "file_extension": ".py",
   "mimetype": "text/x-python",
   "name": "python",
   "nbconvert_exporter": "python",
   "pygments_lexer": "ipython3",
   "version": "3.11.2"
  }
 },
 "nbformat": 4,
 "nbformat_minor": 5
}
