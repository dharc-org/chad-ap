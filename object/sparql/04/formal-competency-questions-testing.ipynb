{
 "cells": [
  {
   "cell_type": "code",
   "execution_count": 1,
   "id": "0adc596a",
   "metadata": {},
   "outputs": [],
   "source": [
    "import rdflib\n",
    "from rdflib.plugins.sparql import prepareQuery\n",
    "from tabulate import tabulate"
   ]
  },
  {
   "cell_type": "code",
   "execution_count": 2,
   "id": "c7a6cfa8",
   "metadata": {},
   "outputs": [],
   "source": [
    "filename = \"../../data/04/ABox.ttl\""
   ]
  },
  {
   "cell_type": "code",
   "execution_count": 3,
   "id": "a54b6be8",
   "metadata": {},
   "outputs": [],
   "source": [
    "text1 = '''CQ_4.1\n",
    "Return all `cultural resources` and both the beginning and the end time of the `time interval` of their `conception events`\n",
    "'''\n",
    "\n",
    "query1 = '''\n",
    "PREFIX crm: <http://www.cidoc-crm.org/cidoc-crm/> \n",
    "PREFIX frbroo: <http://iflastandards.info/ns/fr/frbr/frbroo/> \n",
    "\n",
    "SELECT ?resource ?beginning ?end\n",
    "WHERE {\n",
    "    ?conception_event a frbroo:F27_Work_Conception ;\n",
    "                        frbroo:R16_initiated ?resource ;\n",
    "                        crm:P4_has_time-span ?time_interval .\n",
    "    ?time_interval crm:P82a_begin_of_the_begin ?beginning ;\n",
    "                        crm:P82b_end_of_the_end ?end .\n",
    "}\n",
    "'''"
   ]
  },
  {
   "cell_type": "code",
   "execution_count": 4,
   "id": "9967b608",
   "metadata": {},
   "outputs": [],
   "source": [
    "text2 = '''CQ_4.2\n",
    "Return the `agents` who carried out the `conception` of a `cultural resource` in a `time interval` that comprises \"1590\".\n",
    "'''\n",
    "\n",
    "query2 = '''\n",
    "PREFIX crm: <http://www.cidoc-crm.org/cidoc-crm/> \n",
    "PREFIX frbroo: <http://iflastandards.info/ns/fr/frbr/frbroo/> \n",
    "PREFIX xsd: <http://www.w3.org/2001/XMLSchema#> \n",
    "\n",
    "SELECT ?agent ?beginning ?end\n",
    "WHERE {\n",
    "    ?conception_event a frbroo:F27_Work_Conception ;\n",
    "                    frbroo:R16_initiated ?resource ;\n",
    "                    crm:P14_carried_out_by ?agent ;\n",
    "                    crm:P4_has_time-span ?time_interval .\n",
    "    ?time_interval crm:P82a_begin_of_the_begin ?beginning ;\n",
    "                        crm:P82b_end_of_the_end ?end .\n",
    "\n",
    "    FILTER (xsd:dateTime(concat(str(?beginning), \"T00:00:00\")) < xsd:dateTime(\"1591-01-01T00:00:00\") && \n",
    "    xsd:dateTime(concat(str(?end), \"T00:00:00\")) > xsd:dateTime(\"1589-12-31T00:00:00\"))\n",
    "}\n",
    "'''"
   ]
  },
  {
   "cell_type": "code",
   "execution_count": 5,
   "id": "53980eff",
   "metadata": {},
   "outputs": [
    {
     "name": "stdout",
     "output_type": "stream",
     "text": [
      "CQ_4.1\n",
      "Return all `cultural resources` and both the beginning and the end time of the `time interval` of their `conception events`\n",
      "\n",
      "+----------------------------------------------------+-------------+------------+\n",
      "| resource                                           | beginning   | end        |\n",
      "|----------------------------------------------------+-------------+------------|\n",
      "| http://purl.org/changes/object/data/04/ALD-L1-work | 1589-01-01  | 1593-12-31 |\n",
      "| http://purl.org/changes/object/data/04/ALD-1-work  | 1482-01-01  | 1482-12-31 |\n",
      "| http://purl.org/changes/object/data/04/ALD-26-work | 1500-01-01  | 1599-12-31 |\n",
      "+----------------------------------------------------+-------------+------------+\n",
      "CQ_4.2\n",
      "Return the `agents` who carried out the `conception` of a `cultural resource` in a `time interval` that comprises \"1590\".\n",
      "\n",
      "+-----------------------------------------------------------+-------------+------------+\n",
      "| agent                                                     | beginning   | end        |\n",
      "|-----------------------------------------------------------+-------------+------------|\n",
      "| http://purl.org/changes/object/data/04/jan-van-der-straet | 1589-01-01  | 1593-12-31 |\n",
      "| http://purl.org/changes/object/data/04/ulisse-aldrovandi  | 1500-01-01  | 1599-12-31 |\n",
      "+-----------------------------------------------------------+-------------+------------+\n"
     ]
    }
   ],
   "source": [
    "queries = [(text1, query1),\n",
    "           (text2, query2)]\n",
    "\n",
    "g = rdflib.ConjunctiveGraph()\n",
    "g.parse(filename, format=\"turtle\", encoding=\"utf-8\")\n",
    "\n",
    "for query in queries:\n",
    "    q = prepareQuery(query[1])\n",
    "    results = g.query(q)\n",
    "    print(query[0])\n",
    "    table = []\n",
    "    for row in results:\n",
    "        table.append([row[var] for var in results.vars])\n",
    "    print(tabulate(table, headers=results.vars, tablefmt=\"psql\"))"
   ]
  }
 ],
 "metadata": {
  "kernelspec": {
   "display_name": "Python 3 (ipykernel)",
   "language": "python",
   "name": "python3"
  },
  "language_info": {
   "codemirror_mode": {
    "name": "ipython",
    "version": 3
   },
   "file_extension": ".py",
   "mimetype": "text/x-python",
   "name": "python",
   "nbconvert_exporter": "python",
   "pygments_lexer": "ipython3",
   "version": "3.11.2"
  }
 },
 "nbformat": 4,
 "nbformat_minor": 5
}
