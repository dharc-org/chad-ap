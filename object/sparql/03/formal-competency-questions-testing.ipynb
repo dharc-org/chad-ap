{
 "cells": [
  {
   "cell_type": "code",
   "execution_count": 1,
   "id": "0adc596a",
   "metadata": {},
   "outputs": [],
   "source": [
    "import rdflib\n",
    "from rdflib.plugins.sparql import prepareQuery\n",
    "from tabulate import tabulate"
   ]
  },
  {
   "cell_type": "code",
   "execution_count": 2,
   "id": "c7a6cfa8",
   "metadata": {},
   "outputs": [],
   "source": [
    "filename = \"../../data/03/ABox.ttl\""
   ]
  },
  {
   "cell_type": "code",
   "execution_count": 3,
   "id": "a54b6be8",
   "metadata": {},
   "outputs": [],
   "source": [
    "text1 = '''CQ_3.1\n",
    "What are the cultural resources whose collections have been curated during curation events carried out by agents located in Bologna?\n",
    "'''\n",
    "\n",
    "query1 = '''\n",
    "PREFIX ex: <http://purl.org/changes/object/data/03/>\n",
    "PREFIX crm: <http://www.cidoc-crm.org/cidoc-crm/> \n",
    "\n",
    "SELECT ?resource ?collection ?agent\n",
    "WHERE {\n",
    "    ?curation a crm:E87_Curation_Activity ;\n",
    "            crm:P147_curated ?collection ;\n",
    "            crm:P14_carried_out_by ?agent ;\n",
    "            crm:P12_occurred_in_the_presence_of ?resource .\n",
    "    ?agent crm:P74_has_current_or_former_residence ex:bologna .\n",
    "}\n",
    "'''"
   ]
  },
  {
   "cell_type": "code",
   "execution_count": 4,
   "id": "9967b608",
   "metadata": {},
   "outputs": [],
   "source": [
    "text2 = '''CQ_3.2\n",
    "What are the collections curated during curation events carried out by the Rijksmuseum?\n",
    "'''\n",
    "\n",
    "query2 = '''\n",
    "PREFIX ex: <http://purl.org/changes/object/data/03/>\n",
    "PREFIX crm: <http://www.cidoc-crm.org/cidoc-crm/> \n",
    "\n",
    "SELECT ?collection\n",
    "WHERE {\n",
    "    ?curation a crm:E87_Curation_Activity ;\n",
    "            crm:P147_curated ?collection ;\n",
    "            crm:P14_carried_out_by ex:rijksmuseum .\n",
    "}\n",
    "'''"
   ]
  },
  {
   "cell_type": "code",
   "execution_count": 5,
   "id": "53980eff",
   "metadata": {},
   "outputs": [
    {
     "name": "stdout",
     "output_type": "stream",
     "text": [
      "CQ_3.1\n",
      "What are the cultural resources whose collections have been curated during curation events carried out by agents located in Bologna?\n",
      "\n",
      "+---------------------------------------------------+-------------------------------------------------------------------------+------------------------------------------------------------------+\n",
      "| resource                                          | collection                                                              | agent                                                            |\n",
      "|---------------------------------------------------+-------------------------------------------------------------------------+------------------------------------------------------------------|\n",
      "| http://purl.org/changes/object/data/03/ALD-1-man  | http://purl.org/changes/object/data/03/collezione-di-zoologia           | http://purl.org/changes/object/data/03/sistema-museale-di-ateneo |\n",
      "| http://purl.org/changes/object/data/03/ALD-14-man | http://purl.org/changes/object/data/03/collezione-di-anatomia-comparata | http://purl.org/changes/object/data/03/sistema-museale-di-ateneo |\n",
      "+---------------------------------------------------+-------------------------------------------------------------------------+------------------------------------------------------------------+\n",
      "CQ_3.2\n",
      "What are the collections curated during curation events carried out by the Rijksmuseum?\n",
      "\n",
      "+-----------------------------------------------------+\n",
      "| collection                                          |\n",
      "|-----------------------------------------------------|\n",
      "| http://purl.org/changes/object/data/03/nova-reperta |\n",
      "+-----------------------------------------------------+\n"
     ]
    }
   ],
   "source": [
    "queries = [(text1, query1),\n",
    "           (text2, query2)]\n",
    "\n",
    "g = rdflib.ConjunctiveGraph()\n",
    "g.parse(filename, format=\"turtle\", encoding=\"utf-8\")\n",
    "\n",
    "for query in queries:\n",
    "    q = prepareQuery(query[1])\n",
    "    results = g.query(q)\n",
    "    print(query[0])\n",
    "    table = []\n",
    "    for row in results:\n",
    "        table.append([row[var] for var in results.vars])\n",
    "    print(tabulate(table, headers=results.vars, tablefmt=\"psql\"))"
   ]
  }
 ],
 "metadata": {
  "kernelspec": {
   "display_name": "Python 3 (ipykernel)",
   "language": "python",
   "name": "python3"
  },
  "language_info": {
   "codemirror_mode": {
    "name": "ipython",
    "version": 3
   },
   "file_extension": ".py",
   "mimetype": "text/x-python",
   "name": "python",
   "nbconvert_exporter": "python",
   "pygments_lexer": "ipython3",
   "version": "3.11.2"
  }
 },
 "nbformat": 4,
 "nbformat_minor": 5
}
