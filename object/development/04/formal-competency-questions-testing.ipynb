{
 "cells": [
  {
   "cell_type": "code",
   "execution_count": 11,
   "id": "0adc596a",
   "metadata": {},
   "outputs": [],
   "source": [
    "import rdflib\n",
    "from rdflib.plugins.sparql import prepareQuery\n",
    "from tabulate import tabulate"
   ]
  },
  {
   "cell_type": "code",
   "execution_count": 12,
   "id": "c7a6cfa8",
   "metadata": {},
   "outputs": [],
   "source": [
    "filename = \"ABox.ttl\""
   ]
  },
  {
   "cell_type": "code",
   "execution_count": 13,
   "id": "a54b6be8",
   "metadata": {},
   "outputs": [],
   "source": [
    "text1 = '''CQ_4.1\n",
    "What are the cultural resources and the time spans of their conception events?\n",
    "'''\n",
    "\n",
    "query1 = '''\n",
    "PREFIX obj: <http://purl.org/changes/object/development/04/schema/>\n",
    "\n",
    "SELECT ?resource ?beginning ?end\n",
    "WHERE {\n",
    "  ?conception_event a obj:ConceptionEvent ;\n",
    "                    obj:initiates ?resource ;\n",
    "                    obj:hasTimeInterval ?timeInterval .\n",
    "  ?timeInterval obj:hasBeginning ?beginning ;\n",
    "                 obj:hasEnd ?end .\n",
    "}\n",
    "'''"
   ]
  },
  {
   "cell_type": "code",
   "execution_count": 14,
   "id": "9967b608",
   "metadata": {},
   "outputs": [],
   "source": [
    "text2 = '''CQ_4.2\n",
    "What are the cultural resources created in a time interval that includes the year 1590?\n",
    "'''\n",
    "\n",
    "query2 = '''\n",
    "PREFIX obj: <http://purl.org/changes/object/development/04/schema/>\n",
    "PREFIX xsd: <http://www.w3.org/2001/XMLSchema#>\n",
    "\n",
    "SELECT ?resource ?beginning ?end\n",
    "WHERE {\n",
    "    ?conception_event a obj:ConceptionEvent ;\n",
    "                    obj:initiates ?resource ;\n",
    "                    obj:hasTimeInterval ?timeInterval .\n",
    "    ?timeInterval obj:hasBeginning ?beginning ;\n",
    "                        obj:hasEnd ?end .\n",
    "    \n",
    "FILTER (xsd:dateTimeTime(concat(str(?beginning), \"T00:00:00\")) < xsd:dateTimeTime(\"1591-01-01T00:00:00\") && \n",
    "xsd:dateTimeTime(concat(str(?end), \"T00:00:00\")) > xsd:dateTimeTime(\"1589-12-31T00:00:00\"))\n",
    "}\n",
    "'''"
   ]
  },
  {
   "cell_type": "code",
   "execution_count": 15,
   "id": "53980eff",
   "metadata": {},
   "outputs": [
    {
     "name": "stdout",
     "output_type": "stream",
     "text": [
      "CQ_4.1\n",
      "What are the cultural resources and the time spans of their conception events?\n",
      "\n",
      "+------------------------------------------------------------+-------------+------------+\n",
      "| resource                                                   | beginning   | end        |\n",
      "|------------------------------------------------------------+-------------+------------|\n",
      "| http://purl.org/changes/object/development/04/data/L1-work | 1589-01-01  | 1593-12-31 |\n",
      "| http://purl.org/changes/object/development/04/data/1-work  | 1482-01-01  | 1482-12-31 |\n",
      "| http://purl.org/changes/object/development/04/data/26-work | 1500-01-01  | 1599-12-31 |\n",
      "+------------------------------------------------------------+-------------+------------+\n",
      "CQ_4.2\n",
      "What are the cultural resources created in a time interval that includes the year 1590?\n",
      "\n",
      "+------------------------------------------------------------+-------------+------------+\n",
      "| resource                                                   | beginning   | end        |\n",
      "|------------------------------------------------------------+-------------+------------|\n",
      "| http://purl.org/changes/object/development/04/data/L1-work | 1589-01-01  | 1593-12-31 |\n",
      "| http://purl.org/changes/object/development/04/data/26-work | 1500-01-01  | 1599-12-31 |\n",
      "+------------------------------------------------------------+-------------+------------+\n"
     ]
    }
   ],
   "source": [
    "queries = [(text1, query1),\n",
    "           (text2, query2)]\n",
    "\n",
    "g = rdflib.ConjunctiveGraph()\n",
    "g.parse(filename, format=\"turtle\", encoding=\"utf-8\")\n",
    "\n",
    "for query in queries:\n",
    "    q = prepareQuery(query[1])\n",
    "    results = g.query(q)\n",
    "    print(query[0])\n",
    "    table = []\n",
    "    for row in results:\n",
    "        table.append([row[var] for var in results.vars])\n",
    "    print(tabulate(table, headers=results.vars, tablefmt=\"psql\"))"
   ]
  }
 ],
 "metadata": {
  "kernelspec": {
   "display_name": "Python 3 (ipykernel)",
   "language": "python",
   "name": "python3"
  },
  "language_info": {
   "codemirror_mode": {
    "name": "ipython",
    "version": 3
   },
   "file_extension": ".py",
   "mimetype": "text/x-python",
   "name": "python",
   "nbconvert_exporter": "python",
   "pygments_lexer": "ipython3",
   "version": "3.11.2"
  }
 },
 "nbformat": 4,
 "nbformat_minor": 5
}
