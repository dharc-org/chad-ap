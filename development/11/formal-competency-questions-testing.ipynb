{
 "cells": [
  {
   "cell_type": "code",
   "execution_count": 6,
   "id": "0adc596a",
   "metadata": {},
   "outputs": [],
   "source": [
    "import rdflib\n",
    "from rdflib.plugins.sparql import prepareQuery\n",
    "from tabulate import tabulate"
   ]
  },
  {
   "cell_type": "code",
   "execution_count": 7,
   "id": "c7a6cfa8",
   "metadata": {},
   "outputs": [],
   "source": [
    "filename = \"ABox.ttl\""
   ]
  },
  {
   "cell_type": "code",
   "execution_count": 8,
   "id": "a54b6be8",
   "metadata": {},
   "outputs": [],
   "source": [
    "text1 = '''CQ_11.1\n",
    "Return the textual content of the appellation used to label the type of a CHO and also its authority record.\n",
    "'''\n",
    "\n",
    "query1 = '''\n",
    "PREFIX obj: <https://w3id.org/dharc/ontology/chad-ap/object/development/11/schema/>\n",
    "\n",
    "SELECT ?cho ?label ?auth\n",
    "WHERE {\n",
    "    ?cho a obj:Manifestation ;\n",
    "      obj:hasType ?type .\n",
    "      \n",
    "    ?type obj:isIdentifiedBy ?appellation ;\n",
    "      obj:isDocumentedIn ?auth .\n",
    "    \n",
    "    ?appellation obj:hasSymbolicContent ?label .\n",
    "}\n",
    "'''"
   ]
  },
  {
   "cell_type": "code",
   "execution_count": 9,
   "id": "9967b608",
   "metadata": {},
   "outputs": [],
   "source": [
    "text2 = '''CQ_11.2\n",
    "Return all the appellations used to label the entities involved in the bibliographic description and the digitisation process of a CHO.\n",
    "'''\n",
    "\n",
    "query2 = '''\n",
    "PREFIX obj: <https://w3id.org/dharc/ontology/chad-ap/object/development/11/schema/>\n",
    "\n",
    "SELECT ?label ?entity ?type\n",
    "WHERE {\n",
    "    ?entity a ?type ; \n",
    "      obj:isIdentifiedBy ?appellation .\n",
    "\n",
    "    ?appellation a obj:Appellation ;\n",
    "      obj:hasSymbolicContent ?label .\n",
    "}\n",
    "'''"
   ]
  },
  {
   "cell_type": "code",
   "execution_count": 10,
   "id": "53980eff",
   "metadata": {},
   "outputs": [
    {
     "name": "stdout",
     "output_type": "stream",
     "text": [
      "CQ_11.1\n",
      "Return the textual content of the appellation used to label the type of a CHO and also its authority record.\n",
      "\n",
      "+------------------------------------------------+---------+-------------------------------------------+\n",
      "| cho                                            | label   | auth                                      |\n",
      "|------------------------------------------------+---------+-------------------------------------------|\n",
      "| https://w3id.org/changes/4/aldrovandi/22/mnf/1 | Stampa  | http://vocab.getty.edu/page/aat/300041273 |\n",
      "+------------------------------------------------+---------+-------------------------------------------+\n",
      "CQ_11.2\n",
      "Return all the appellations used to label the entities involved in the bibliographic description and the digitisation process of a CHO.\n",
      "\n",
      "+-------------------------+-------------------------------------------------------------------+------------------------------------------------------------------------------------+\n",
      "| label                   | entity                                                            | type                                                                               |\n",
      "|-------------------------+-------------------------------------------------------------------+------------------------------------------------------------------------------------|\n",
      "| Stampa                  | https://w3id.org/changes/4/aldrovandi/typ/300041273               | https://w3id.org/dharc/ontology/chad-ap/object/development/11/schema/Type          |\n",
      "| Dioscorides Pedanius    | https://w3id.org/changes/4/aldrovandi/act/dioscorides-pedanius    | https://w3id.org/dharc/ontology/chad-ap/object/development/11/schema/Actor         |\n",
      "| Fondo Storico Bertoloni | https://w3id.org/changes/4/aldrovandi/col/fondo-storico-bertoloni | https://w3id.org/dharc/ontology/chad-ap/object/development/11/schema/Collection    |\n",
      "| Bologna                 | https://w3id.org/changes/4/aldrovandi/plc/bologna                 | https://w3id.org/dharc/ontology/chad-ap/object/development/11/schema/Place         |\n",
      "| Alice Bordignon         | https://w3id.org/changes/4/aldrovandi/psn/alice-bordignon         | https://w3id.org/dharc/ontology/chad-ap/object/development/11/schema/Person        |\n",
      "| Nikon D7200 Nikor 50mm  | https://w3id.org/changes/4/aldrovandi/dev/nikon-d7200-nikor-50mm  | https://w3id.org/dharc/ontology/chad-ap/object/development/11/schema/DigitalDevice |\n",
      "| Unibo Ficlit            | https://w3id.org/changes/4/aldrovandi/grp/unibo-ficlit            | https://w3id.org/dharc/ontology/chad-ap/object/development/11/schema/Group         |\n",
      "| 3df Zephyr              | https://w3id.org/changes/4/aldrovandi/sfw/3df-zephyr              | https://w3id.org/dharc/ontology/chad-ap/object/development/11/schema/Software      |\n",
      "+-------------------------+-------------------------------------------------------------------+------------------------------------------------------------------------------------+\n"
     ]
    }
   ],
   "source": [
    "queries = [(text1, query1),\n",
    "           (text2, query2),\n",
    "           ]\n",
    "\n",
    "g = rdflib.ConjunctiveGraph()\n",
    "g.parse(filename, format=\"turtle\", encoding=\"utf-8\")\n",
    "\n",
    "for query in queries:\n",
    "    q = prepareQuery(query[1])\n",
    "    results = g.query(q)\n",
    "    print(query[0])\n",
    "    table = []\n",
    "    for row in results:\n",
    "        table.append([row[var] for var in results.vars])\n",
    "    print(tabulate(table, headers=results.vars, tablefmt=\"psql\"))"
   ]
  }
 ],
 "metadata": {
  "kernelspec": {
   "display_name": "venv",
   "language": "python",
   "name": "python3"
  },
  "language_info": {
   "codemirror_mode": {
    "name": "ipython",
    "version": 3
   },
   "file_extension": ".py",
   "mimetype": "text/x-python",
   "name": "python",
   "nbconvert_exporter": "python",
   "pygments_lexer": "ipython3",
   "version": "3.11.2"
  }
 },
 "nbformat": 4,
 "nbformat_minor": 5
}
