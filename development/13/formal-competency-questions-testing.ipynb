{
 "cells": [
  {
   "cell_type": "code",
   "execution_count": 252,
   "id": "0adc596a",
   "metadata": {},
   "outputs": [],
   "source": [
    "import rdflib\n",
    "from rdflib.plugins.sparql import prepareQuery\n",
    "from tabulate import tabulate"
   ]
  },
  {
   "cell_type": "code",
   "execution_count": 253,
   "id": "c7a6cfa8",
   "metadata": {},
   "outputs": [],
   "source": [
    "filename = \"ABox.ttl\""
   ]
  },
  {
   "cell_type": "code",
   "execution_count": 254,
   "id": "a54b6be8",
   "metadata": {},
   "outputs": [],
   "source": [
    "text1 = '''CQ_13.1\n",
    "Return the items, the name of the location their creation took place at, and eventually the name of the more precise location, if it exists.\n",
    "'''\n",
    "\n",
    "query1 = '''\n",
    "PREFIX obj: <https://w3id.org/dharc/ontology/chad-ap/object/development/13/schema/>\n",
    "\n",
    "SELECT ?item (GROUP_CONCAT(?place_label; separator=\", \") AS ?place_label_combined)\n",
    "WHERE {\n",
    "    ?creation_event obj:tookPlaceIn ?place ;\n",
    "        obj:createsExpression ?exp .\n",
    "    ?exp obj:isEmbodiedIn ?mnf .\n",
    "    ?mnf obj:isExemplifiedBy ?item .\n",
    "    ?place obj:isIdentifiedBy ?placeapp .\n",
    "    ?placeapp obj:hasSymbolicContent ?place_label .\n",
    "}\n",
    "GROUP BY ?item\n",
    "'''"
   ]
  },
  {
   "cell_type": "code",
   "execution_count": 255,
   "id": "9967b608",
   "metadata": {},
   "outputs": [],
   "source": [
    "text2 = '''CQ_13.2\n",
    "Return the items and their current locations.\n",
    "'''\n",
    "\n",
    "query2 = '''\n",
    "PREFIX obj: <https://w3id.org/dharc/ontology/chad-ap/object/development/13/schema/>\n",
    "\n",
    "SELECT ?item ?place_label\n",
    "WHERE {\n",
    "    ?creation_event obj:createsExpression ?exp .\n",
    "    ?exp obj:isEmbodiedIn ?mnf .\n",
    "    ?mnf obj:isExemplifiedBy ?item .\n",
    "    ?item obj:hasCurrentLocation ?place .\n",
    "    ?place obj:isIdentifiedBy ?app .\n",
    "    ?app obj:hasSymbolicContent ?place_label .\n",
    "}\n",
    "'''"
   ]
  },
  {
   "cell_type": "code",
   "execution_count": 256,
   "id": "53980eff",
   "metadata": {},
   "outputs": [
    {
     "name": "stdout",
     "output_type": "stream",
     "text": [
      "CQ_13.1\n",
      "Return the items, the name of the location their creation took place at, and eventually the name of the more precise location, if it exists.\n",
      "\n",
      "+----------------------------------------------------+------------------------+\n",
      "| item                                               | place_label_combined   |\n",
      "|----------------------------------------------------+------------------------|\n",
      "| https://w3id.org/changes/4/cappellini/699693/itm/1 | Italia, Opicina        |\n",
      "| https://w3id.org/changes/4/cappellini/699708/itm/1 | Italia, Spoleto        |\n",
      "+----------------------------------------------------+------------------------+\n",
      "CQ_13.2\n",
      "Return the items and their current locations.\n",
      "\n",
      "+----------------------------------------------------+---------------+\n",
      "| item                                               | place_label   |\n",
      "|----------------------------------------------------+---------------|\n",
      "| https://w3id.org/changes/4/cappellini/699693/itm/1 | Stanza VIII   |\n",
      "| https://w3id.org/changes/4/cappellini/699708/itm/1 | Stanza VI     |\n",
      "+----------------------------------------------------+---------------+\n"
     ]
    }
   ],
   "source": [
    "queries = [(text1, query1),\n",
    "            (text2, query2),\n",
    "           ]\n",
    "\n",
    "g = rdflib.ConjunctiveGraph()\n",
    "g.parse(filename, format=\"turtle\", encoding=\"utf-8\")\n",
    "\n",
    "for query in queries:\n",
    "    q = prepareQuery(query[1])\n",
    "    results = g.query(q)\n",
    "    print(query[0])\n",
    "    table = []\n",
    "    for row in results:\n",
    "        table.append([row[var] for var in results.vars])\n",
    "    print(tabulate(table, headers=results.vars, tablefmt=\"psql\"))"
   ]
  }
 ],
 "metadata": {
  "kernelspec": {
   "display_name": "venv",
   "language": "python",
   "name": "python3"
  },
  "language_info": {
   "codemirror_mode": {
    "name": "ipython",
    "version": 3
   },
   "file_extension": ".py",
   "mimetype": "text/x-python",
   "name": "python",
   "nbconvert_exporter": "python",
   "pygments_lexer": "ipython3",
   "version": "3.11.2"
  }
 },
 "nbformat": 4,
 "nbformat_minor": 5
}
