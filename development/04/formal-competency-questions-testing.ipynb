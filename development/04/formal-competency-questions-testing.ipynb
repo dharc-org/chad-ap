{
 "cells": [
  {
   "cell_type": "code",
   "execution_count": 1,
   "id": "0adc596a",
   "metadata": {},
   "outputs": [],
   "source": [
    "import rdflib\n",
    "from rdflib.plugins.sparql import prepareQuery\n",
    "from tabulate import tabulate"
   ]
  },
  {
   "cell_type": "code",
   "execution_count": 2,
   "id": "c7a6cfa8",
   "metadata": {},
   "outputs": [],
   "source": [
    "filename = \"ABox.ttl\""
   ]
  },
  {
   "cell_type": "code",
   "execution_count": 3,
   "id": "a54b6be8",
   "metadata": {},
   "outputs": [],
   "source": [
    "text1 = '''CQ_1.1\n",
    "Return the cultural resources whose creation involved some agent in the role of illustration.\n",
    "'''\n",
    "\n",
    "query1 = '''\n",
    "PREFIX ex: <https://w3id.org/dharc/ontology/chad-ap/object/development/01/data/>\n",
    "PREFIX obj: <https://w3id.org/dharc/ontology/chad-ap/object/development/01/schema/>\n",
    "\n",
    "SELECT ?resource ?agent\n",
    "WHERE {\n",
    "    ?creation_event a obj:CreationEvent ;\n",
    "            obj:creates ?resource ;\n",
    "            obj:consistsOf ?activity .\n",
    "    ?activity obj:hasType obj:illustration ;\n",
    "            obj:isCarriedOutBy ?agent .\n",
    "}\n",
    "'''"
   ]
  },
  {
   "cell_type": "code",
   "execution_count": 4,
   "id": "9967b608",
   "metadata": {},
   "outputs": [],
   "source": [
    "text2 = '''CQ_1.2\n",
    "Return the agents and the role types of their respective activities that contributed to the creation of 24-exp.\n",
    "'''\n",
    "\n",
    "query2 = '''\n",
    "PREFIX ex: <https://w3id.org/dharc/ontology/chad-ap/object/development/01/data/>\n",
    "PREFIX obj: <https://w3id.org/dharc/ontology/chad-ap/object/development/01/schema/>\n",
    "\n",
    "SELECT ?agent ?type\n",
    "WHERE {\n",
    "    ?creation_event a obj:CreationEvent ;\n",
    "            obj:creates ex:24-exp ;\n",
    "            obj:consistsOf ?activity .\n",
    "    ?activity obj:hasType ?type ;\n",
    "            obj:isCarriedOutBy ?agent .\n",
    "}\n",
    "'''"
   ]
  },
  {
   "cell_type": "code",
   "execution_count": 5,
   "id": "fac05224",
   "metadata": {},
   "outputs": [],
   "source": [
    "text3 = '''CQ_1.3\n",
    "Return the agents involved in the creation of the cultural resources that have been created through the technique engraving, as well as the role types of the activities they carried out.\n",
    "'''\n",
    "\n",
    "query3 = '''\n",
    "PREFIX ex: <https://w3id.org/dharc/ontology/chad-ap/object/development/01/data/>\n",
    "PREFIX obj: <https://w3id.org/dharc/ontology/chad-ap/object/development/01/schema/>\n",
    "\n",
    "SELECT ?resource ?agent ?type\n",
    "WHERE {\n",
    "    ?creation_event a obj:CreationEvent ;\n",
    "            obj:usesTechnique obj:engraving ;\n",
    "            obj:creates ?resource ;\n",
    "            obj:consistsOf ?activity .\n",
    "    ?activity obj:hasType ?type ;\n",
    "            obj:isCarriedOutBy ?agent .\n",
    "}\n",
    "'''"
   ]
  },
  {
   "cell_type": "code",
   "execution_count": 6,
   "id": "27ef9822",
   "metadata": {},
   "outputs": [],
   "source": [
    "text4 = '''CQ_1.4\n",
    "Return the cultural resources whose creation involved at least one agent in more than one role type.\n",
    "'''\n",
    "\n",
    "query4 = '''\n",
    "PREFIX ex: <https://w3id.org/dharc/ontology/chad-ap/object/development/01/data/>\n",
    "PREFIX obj: <https://w3id.org/dharc/ontology/chad-ap/object/development/01/schema/>\n",
    "\n",
    "SELECT ?resource\n",
    "WHERE {\n",
    "  ?event a obj:CreationEvent ;\n",
    "         obj:creates ?resource ;\n",
    "         obj:consistsOf ?activity1 , ?activity2 .\n",
    "  ?activity1 obj:isCarriedOutBy ?agent ;\n",
    "             obj:hasType ?type1 .\n",
    "  ?activity2 obj:isCarriedOutBy ?agent ;\n",
    "             obj:hasType ?type2 .\n",
    "  FILTER(?type1 != ?type2)\n",
    "}\n",
    "GROUP BY ?resource\n",
    "HAVING(COUNT(DISTINCT ?agent) = 1)\n",
    "'''"
   ]
  },
  {
   "cell_type": "code",
   "execution_count": 7,
   "id": "53980eff",
   "metadata": {},
   "outputs": [
    {
     "name": "stdout",
     "output_type": "stream",
     "text": [
      "CQ_1.1\n",
      "Return the cultural resources whose creation involved some agent in the role of illustration.\n",
      "\n",
      "+---------------------------------------------------------------+---------------------------------------------------------------------------+\n",
      "| resource                                                      | agent                                                                     |\n",
      "|---------------------------------------------------------------+---------------------------------------------------------------------------|\n",
      "| https://w3id.org/dharc/ontology/chad-ap/object/development/01/data/01-exp | https://w3id.org/dharc/ontology/chad-ap/object/development/01/data/jan-van-der-straet     |\n",
      "| https://w3id.org/dharc/ontology/chad-ap/object/development/01/data/35-exp | https://w3id.org/dharc/ontology/chad-ap/object/development/01/data/pietro-andrea-mattioli |\n",
      "+---------------------------------------------------------------+---------------------------------------------------------------------------+\n",
      "CQ_1.2\n",
      "Return the agents and the role types of their respective activities that contributed to the creation of 24-exp.\n",
      "\n",
      "+------------------------------------------------------------------+-------------------------------------------------------------------------+\n",
      "| agent                                                            | type                                                                    |\n",
      "|------------------------------------------------------------------+-------------------------------------------------------------------------|\n",
      "| https://w3id.org/dharc/ontology/chad-ap/object/development/01/data/carl-linnaeus | https://w3id.org/dharc/ontology/chad-ap/object/development/01/schema/discovery          |\n",
      "| https://w3id.org/dharc/ontology/chad-ap/object/development/01/data/naturaliter   | https://w3id.org/dharc/ontology/chad-ap/object/development/01/schema/museum-preparation |\n",
      "+------------------------------------------------------------------+-------------------------------------------------------------------------+\n",
      "CQ_1.3\n",
      "Return the agents involved in the creation of the cultural resources that have been created through the technique engraving, as well as the role types of the activities they carried out.\n",
      "\n",
      "+---------------------------------------------------------------+-----------------------------------------------------------------------+------------------------------------------------------------------------+\n",
      "| resource                                                      | agent                                                                 | type                                                                   |\n",
      "|---------------------------------------------------------------+-----------------------------------------------------------------------+------------------------------------------------------------------------|\n",
      "| https://w3id.org/dharc/ontology/chad-ap/object/development/01/data/01-exp | https://w3id.org/dharc/ontology/chad-ap/object/development/01/data/jan-van-der-straet | https://w3id.org/dharc/ontology/chad-ap/object/development/01/schema/illustration      |\n",
      "| https://w3id.org/dharc/ontology/chad-ap/object/development/01/data/01-exp | https://w3id.org/dharc/ontology/chad-ap/object/development/01/data/philip-galle       | https://w3id.org/dharc/ontology/chad-ap/object/development/01/schema/engraving-process |\n",
      "| https://w3id.org/dharc/ontology/chad-ap/object/development/01/data/01-exp | https://w3id.org/dharc/ontology/chad-ap/object/development/01/data/theodor-galle      | https://w3id.org/dharc/ontology/chad-ap/object/development/01/schema/engraving-process |\n",
      "| https://w3id.org/dharc/ontology/chad-ap/object/development/01/data/01-exp | https://w3id.org/dharc/ontology/chad-ap/object/development/01/data/jan-collaert       | https://w3id.org/dharc/ontology/chad-ap/object/development/01/schema/engraving-process |\n",
      "| https://w3id.org/dharc/ontology/chad-ap/object/development/01/data/01-exp | https://w3id.org/dharc/ontology/chad-ap/object/development/01/data/luigi-alamanni     | https://w3id.org/dharc/ontology/chad-ap/object/development/01/schema/commission        |\n",
      "+---------------------------------------------------------------+-----------------------------------------------------------------------+------------------------------------------------------------------------+\n",
      "CQ_1.4\n",
      "Return the cultural resources whose creation involved at least one agent in more than one role type.\n",
      "\n",
      "+---------------------------------------------------------------+\n",
      "| resource                                                      |\n",
      "|---------------------------------------------------------------|\n",
      "| https://w3id.org/dharc/ontology/chad-ap/object/development/01/data/35-exp |\n",
      "+---------------------------------------------------------------+\n"
     ]
    }
   ],
   "source": [
    "queries = [(text1, query1),\n",
    "           (text2, query2),\n",
    "           (text3, query3),\n",
    "           (text4, query4)]\n",
    "\n",
    "g = rdflib.ConjunctiveGraph()\n",
    "g.parse(filename, format=\"turtle\", encoding=\"utf-8\")\n",
    "\n",
    "for query in queries:\n",
    "    q = prepareQuery(query[1])\n",
    "    results = g.query(q)\n",
    "    print(query[0])\n",
    "    table = []\n",
    "    for row in results:\n",
    "        table.append([row[var] for var in results.vars])\n",
    "    print(tabulate(table, headers=results.vars, tablefmt=\"psql\"))"
   ]
  }
 ],
 "metadata": {
  "kernelspec": {
   "display_name": "Python 3 (ipykernel)",
   "language": "python",
   "name": "python3"
  },
  "language_info": {
   "codemirror_mode": {
    "name": "ipython",
    "version": 3
   },
   "file_extension": ".py",
   "mimetype": "text/x-python",
   "name": "python",
   "nbconvert_exporter": "python",
   "pygments_lexer": "ipython3",
   "version": "3.11.2"
  }
 },
 "nbformat": 4,
 "nbformat_minor": 5
}
