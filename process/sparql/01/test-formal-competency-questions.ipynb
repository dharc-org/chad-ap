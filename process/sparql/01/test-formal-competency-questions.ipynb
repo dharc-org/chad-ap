{
 "cells": [
  {
   "cell_type": "code",
   "execution_count": 6,
   "id": "0adc596a",
   "metadata": {},
   "outputs": [],
   "source": [
    "import rdflib\n",
    "from rdflib.plugins.sparql import prepareQuery\n",
    "from tabulate import tabulate"
   ]
  },
  {
   "cell_type": "code",
   "execution_count": 7,
   "id": "c7a6cfa8",
   "metadata": {},
   "outputs": [],
   "source": [
    "filename = \"../../data/01/ABox.ttl\""
   ]
  },
  {
   "cell_type": "code",
   "execution_count": 8,
   "id": "a54b6be8",
   "metadata": {},
   "outputs": [],
   "source": [
    "text1 = '''CQ_1.1\n",
    "What is the cultural object digitized and the digital object produced by the digitization process? What is the latter's license?\n",
    "'''\n",
    "\n",
    "query1 = '''\n",
    "PREFIX aat: <http://vocab.getty.edu/page/aat/>\n",
    "PREFIX crmdig: <http://www.ics.forth.gr/isl/CRMdig/>\n",
    "PREFIX crm: <http://www.cidoc-crm.org/cidoc-crm/>\n",
    "\n",
    "SELECT ?input ?output ?license_link\n",
    "WHERE {\n",
    "    ?activity a crmdig:D2_Digitization_Process ;\n",
    "        crmdig:L1_digitized ?input ;\n",
    "        crmdig:L11_had_output ?output .\n",
    "    ?license crm:P2_has_type aat:300435434 ;\n",
    "        crm:P67_refers_to ?output ;\n",
    "        crm:P70i_is_documented_in ?license_link .\n",
    "}\n",
    "'''"
   ]
  },
  {
   "cell_type": "code",
   "execution_count": 9,
   "id": "9967b608",
   "metadata": {},
   "outputs": [],
   "source": [
    "text2 = '''CQ_1.2\n",
    "What are the time spans during which the digitization process and the following software activities were carried out?\n",
    "'''\n",
    "\n",
    "query2 = '''\n",
    "PREFIX crm: <http://www.cidoc-crm.org/cidoc-crm/> \n",
    "PREFIX crmdig: <http://www.ics.forth.gr/isl/CRMdig/> \n",
    "\n",
    "SELECT ?activity ?start ?end\n",
    "WHERE {\n",
    "    ?activity a crmdig:D2_Digitization_Process;\n",
    "        crm:P4_has_time-span ?timespan .\n",
    "    ?timespan crm:P82a_begin_of_the_begin ?start ;\n",
    "        crm:P82b_end_of_the_end ?end .\n",
    "}\n",
    "'''"
   ]
  },
  {
   "cell_type": "code",
   "execution_count": 10,
   "id": "53980eff",
   "metadata": {},
   "outputs": [
    {
     "name": "stdout",
     "output_type": "stream",
     "text": [
      "CQ_1.1\n",
      "What is the cultural object digitized and the digital object produced by the digitization process? What is the latter's license?\n",
      "\n",
      "+------------------------------------------------+-----------------------------------------------------------+----------------------------------------------+\n",
      "| input                                          | output                                                    | license_link                                 |\n",
      "|------------------------------------------------+-----------------------------------------------------------+----------------------------------------------|\n",
      "| http://purl.org/changes/process/data/01/15 | http://purl.org/changes/process/data/01/15-acq-output | https://creativecommons.org/licenses/by-nc/4.0/ |\n",
      "+------------------------------------------------+-----------------------------------------------------------+----------------------------------------------+\n",
      "CQ_1.2\n",
      "Return the time period (start and end) in which the digitization process and the following software activity took place.\n",
      "\n",
      "+----------------------------------------------------+------------+------------+\n",
      "| activity                                           | start      | end        |\n",
      "|----------------------------------------------------+------------+------------|\n",
      "| http://purl.org/changes/process/data/01/15-acq | 2023-04-17 | 2023-04-17 |\n",
      "+----------------------------------------------------+------------+------------+\n"
     ]
    }
   ],
   "source": [
    "queries = [(text1, query1), (text2, query2)]\n",
    "g = rdflib.ConjunctiveGraph()\n",
    "g.parse(filename, format=\"turtle\", encoding=\"utf-8\")\n",
    "\n",
    "for query in queries:\n",
    "    q = prepareQuery(query[1])\n",
    "    results = g.query(q)\n",
    "    print(query[0])\n",
    "    table = []\n",
    "    for row in results:\n",
    "        table.append([row[var] for var in results.vars])\n",
    "    print(tabulate(table, headers=results.vars, tablefmt=\"psql\"))"
   ]
  }
 ],
 "metadata": {
  "kernelspec": {
   "display_name": "Python 3 (ipykernel)",
   "language": "python",
   "name": "python3"
  },
  "language_info": {
   "codemirror_mode": {
    "name": "ipython",
    "version": 3
   },
   "file_extension": ".py",
   "mimetype": "text/x-python",
   "name": "python",
   "nbconvert_exporter": "python",
   "pygments_lexer": "ipython3",
   "version": "3.11.2"
  }
 },
 "nbformat": 4,
 "nbformat_minor": 5
}
