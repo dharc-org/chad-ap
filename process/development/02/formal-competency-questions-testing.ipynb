{
 "cells": [
  {
   "cell_type": "code",
   "execution_count": 7,
   "id": "0adc596a",
   "metadata": {},
   "outputs": [],
   "source": [
    "import rdflib\n",
    "from rdflib.plugins.sparql import prepareQuery\n",
    "from tabulate import tabulate"
   ]
  },
  {
   "cell_type": "code",
   "execution_count": 8,
   "id": "c7a6cfa8",
   "metadata": {},
   "outputs": [],
   "source": [
    "filename = \"ABox.ttl\""
   ]
  },
  {
   "cell_type": "code",
   "execution_count": 9,
   "id": "a54b6be8",
   "metadata": {},
   "outputs": [],
   "source": [
    "text1 = '''CQ_2.1\n",
    "Return the input (the result of the digitization process) ingested and the output (the processed digital object) produced by the processing activity, as well as the activity itself.\n",
    "'''\n",
    "\n",
    "query1 = '''\n",
    "PREFIX ex: <http://purl.org/changes/process/development/02/data/>\n",
    "PREFIX process: <http://purl.org/changes/process/development/02/schema/>\n",
    "\n",
    "SELECT ?digitization ?input ?activity ?output\n",
    "WHERE {\n",
    "    ?activity a process:SoftwareActivity ;\n",
    "    process:hasType process:processing ;\n",
    "    process:hasInput ?input ;\n",
    "    process:hasOutput ?output .\n",
    "    ?digitization process:hasOutput ?input .\n",
    "}\n",
    "'''"
   ]
  },
  {
   "cell_type": "code",
   "execution_count": 10,
   "id": "9967b608",
   "metadata": {},
   "outputs": [],
   "source": [
    "text2 = '''CQ_2.2\n",
    "Return the agents (people and institutions) who either carried out or were involved in the processing activity.\n",
    "'''\n",
    "\n",
    "query2 = '''\n",
    "PREFIX ex: <http://purl.org/changes/process/development/02/data/>\n",
    "PREFIX process: <http://purl.org/changes/process/development/02/schema/>\n",
    "PREFIX rdfs: <http://www.w3.org/2000/01/rdf-schema#>\n",
    "\n",
    "SELECT ?person ?institution\n",
    "WHERE {\n",
    "    ?activity a process:SoftwareActivity ;\n",
    "    process:hasType process:processing ;\n",
    "    process:hasParticipant ?institution ;\n",
    "    process:carriedOutBy ?person .\n",
    "}\n",
    "'''"
   ]
  },
  {
   "cell_type": "code",
   "execution_count": 11,
   "id": "53980eff",
   "metadata": {},
   "outputs": [
    {
     "name": "stdout",
     "output_type": "stream",
     "text": [
      "CQ_2.1\n",
      "Return the input (the result of the digitization process) ingested and the output (the processed digital object) produced by the processing activity, as well as the activity itself.\n",
      "\n",
      "+----------------------------------------------------------------+-----------------------------------------------------------------------+-----------------------------------------------------------------+------------------------------------------------------------------------+\n",
      "| digitization                                                   | input                                                                 | activity                                                        | output                                                                 |\n",
      "|----------------------------------------------------------------+-----------------------------------------------------------------------+-----------------------------------------------------------------+------------------------------------------------------------------------|\n",
      "| http://purl.org/changes/process/development/02/data/15-acq | http://purl.org/changes/process/development/02/data/15-acq-output | http://purl.org/changes/process/development/02/data/15-proc | http://purl.org/changes/process/development/02/data/15-proc-output |\n",
      "+----------------------------------------------------------------+-----------------------------------------------------------------------+-----------------------------------------------------------------+------------------------------------------------------------------------+\n",
      "CQ_2.2\n",
      "Return the agents (people and institutions) who either carried out or were involved in the processing activity.\n",
      "\n",
      "+----------------------------------------------------------------------+---------------------------------------------------------------+\n",
      "| person                                                               | institution                                                   |\n",
      "|----------------------------------------------------------------------+---------------------------------------------------------------|\n",
      "| http://purl.org/changes/process/development/02/data/federica-collina | http://purl.org/changes/process/development/02/data/unibo-dbc |\n",
      "+----------------------------------------------------------------------+---------------------------------------------------------------+\n"
     ]
    }
   ],
   "source": [
    "queries = [(text1, query1), (text2, query2)]\n",
    "g = rdflib.ConjunctiveGraph()\n",
    "g.parse(filename, format=\"turtle\", encoding=\"utf-8\")\n",
    "\n",
    "for query in queries:\n",
    "    q = prepareQuery(query[1])\n",
    "    results = g.query(q)\n",
    "    print(query[0])\n",
    "    table = []\n",
    "    for row in results:\n",
    "        table.append([row[var] for var in results.vars])\n",
    "    print(tabulate(table, headers=results.vars, tablefmt=\"psql\"))"
   ]
  }
 ],
 "metadata": {
  "kernelspec": {
   "display_name": "Python 3 (ipykernel)",
   "language": "python",
   "name": "python3"
  },
  "language_info": {
   "codemirror_mode": {
    "name": "ipython",
    "version": 3
   },
   "file_extension": ".py",
   "mimetype": "text/x-python",
   "name": "python",
   "nbconvert_exporter": "python",
   "pygments_lexer": "ipython3",
   "version": "3.11.2"
  }
 },
 "nbformat": 4,
 "nbformat_minor": 5
}
